{
 "cells": [
  {
   "cell_type": "markdown",
   "metadata": {},
   "source": [
    "# Introduction"
   ]
  },
  {
   "cell_type": "markdown",
   "metadata": {},
   "source": [
    "New York City's demographics show that it is a large and ethnically diverse metropolis. It is the largest city in the United States with a long history of international immigration. New York City was home to nearly 8.5 million people in 2014, accounting for over 40% of the population of New York State and a slightly lower percentage of the New York metropolitan area, home to approximately 23.6 million. Over the last decade the city has been growing faster than the region. The New York region continues to be by far the leading metropolitan gateway for legal immigrants admitted into the United States.\n",
    "\n",
    "Throughout its history, New York City has been a major point of entry for immigrants; the term \"melting pot\" was coined to describe densely populated immigrant neighborhoods on the Lower East Side. As many as 800 languages are spoken in New York, making it the most linguistically diverse city in the world. English remains the most widely spoken language, although there are areas in the outer boroughs in which up to 25% of people speak English as an alternate language, and/or have limited or no English language fluency. English is least spoken in neighborhoods such as Flushing, Sunset Park, and Corona.\n",
    "\n",
    "With it's diverse culture , comes diverse food items. There are many resturants in New york City, each beloning to different categories like Chinese , Indian , French etc.\n",
    "\n",
    "So as part of this project , we will list and visualize all major parts of New York City that has great indian resturants."
   ]
  },
  {
   "cell_type": "markdown",
   "metadata": {},
   "source": [
    "# Data"
   ]
  },
  {
   "cell_type": "markdown",
   "metadata": {},
   "source": [
    "\n",
    "Data\n",
    "For this project we need the following data :\n",
    "\n",
    "New York City data that contains list Boroughs, Neighborhoods along with their latitude and longitude.\n",
    "Data source : https://cocl.us/new_york_dataset\n",
    "Description : This data set contains the required information. And we will use this data set to explore various neighborhoods of new york city.\n",
    "Indian resturants in each neighborhood of new york city.\n",
    "Data source : Fousquare API\n",
    "Description : By using this api we will get all the venues in each neighborhood. We can filter these venues to get only indian resturants.\n",
    "GeoSpace data\n",
    "Data source : https://data.cityofnewyork.us/City-Government/Borough-Boundaries/tqmj-j8zm\n",
    "Description : By using this geo space data we will get the New york Borough boundaries that will help us visualize choropleth map."
   ]
  },
  {
   "cell_type": "markdown",
   "metadata": {},
   "source": [
    "# Approach"
   ]
  },
  {
   "cell_type": "markdown",
   "metadata": {},
   "source": [
    " - Collect the new york city data from https://cocl.us/new_york_dataset\n",
    " - Using FourSquare API we will find all venues for each neighborhood.\n",
    " - Filter out all venues that are Indian Resturants.\n",
    " - Find rating , tips and like count for each Indian Resturants using FourSquare API.\n",
    " - Using rating for each resturant , we will sort that data.\n",
    " - Visualize the Ranking of neighborhoods using folium library(python)"
   ]
  },
  {
   "cell_type": "markdown",
   "metadata": {},
   "source": [
    "# Queries that can be answered using above dataset"
   ]
  },
  {
   "cell_type": "markdown",
   "metadata": {},
   "source": [
    " - What is best location in New York City for Indian Cuisine ?\n",
    " - Which areas have potential Indian Resturant Market ?\n",
    " - Which all areas lack Indian Resturants ?\n",
    " - Which is the best place to stay if I prefer Indian Cuisine ?"
   ]
  },
  {
   "cell_type": "markdown",
   "metadata": {},
   "source": [
    "# Analysis"
   ]
  },
  {
   "cell_type": "markdown",
   "metadata": {},
   "source": [
    "## Required Libraries\n",
    "\n",
    " - pandas and numpy for handling data.\n",
    " - request module for using FourSquare API.\n",
    " - geopy to get co-ordinates of City of New York.\n",
    " - folium to visualize the results on a map"
   ]
  },
  {
   "cell_type": "code",
   "execution_count": 10,
   "metadata": {
    "scrolled": true
   },
   "outputs": [
    {
     "name": "stdout",
     "output_type": "stream",
     "text": [
      "Libraries imported.\n"
     ]
    }
   ],
   "source": [
    "import pandas as pd\n",
    "import numpy as np\n",
    "pd.set_option('display.max_columns', None)\n",
    "pd.set_option('display.max_rows', None)\n",
    "import requests\n",
    "import sys\n",
    "from bs4 import BeautifulSoup\n",
    "\n",
    "import os\n",
    "\n",
    "from geopy.geocoders import Nominatim \n",
    "import matplotlib.pyplot as plt\n",
    "import matplotlib.cm as cm\n",
    "import matplotlib.colors as colors\n",
    "%matplotlib inline\n",
    "\n",
    "\n",
    "print('Libraries imported.')"
   ]
  },
  {
   "cell_type": "code",
   "execution_count": 9,
   "metadata": {},
   "outputs": [
    {
     "name": "stdout",
     "output_type": "stream",
     "text": [
      "Collecting folium\n",
      "  Downloading folium-0.11.0-py2.py3-none-any.whl (93 kB)\n",
      "\u001b[K     |████████████████████████████████| 93 kB 3.3 MB/s  eta 0:00:01\n",
      "\u001b[?25hCollecting branca>=0.3.0\n",
      "  Downloading branca-0.4.1-py3-none-any.whl (24 kB)\n",
      "Requirement already satisfied: jinja2>=2.9 in /opt/conda/envs/Python-3.7-main/lib/python3.7/site-packages (from folium) (2.11.2)\n",
      "Requirement already satisfied: numpy in /opt/conda/envs/Python-3.7-main/lib/python3.7/site-packages (from folium) (1.18.5)\n",
      "Requirement already satisfied: requests in /opt/conda/envs/Python-3.7-main/lib/python3.7/site-packages (from folium) (2.24.0)\n",
      "Requirement already satisfied: MarkupSafe>=0.23 in /opt/conda/envs/Python-3.7-main/lib/python3.7/site-packages (from jinja2>=2.9->folium) (1.1.1)\n",
      "Requirement already satisfied: chardet<4,>=3.0.2 in /opt/conda/envs/Python-3.7-main/lib/python3.7/site-packages (from requests->folium) (3.0.4)\n",
      "Requirement already satisfied: urllib3!=1.25.0,!=1.25.1,<1.26,>=1.21.1 in /opt/conda/envs/Python-3.7-main/lib/python3.7/site-packages (from requests->folium) (1.25.9)\n",
      "Requirement already satisfied: idna<3,>=2.5 in /opt/conda/envs/Python-3.7-main/lib/python3.7/site-packages (from requests->folium) (2.9)\n",
      "Requirement already satisfied: certifi>=2017.4.17 in /opt/conda/envs/Python-3.7-main/lib/python3.7/site-packages (from requests->folium) (2020.6.20)\n",
      "Installing collected packages: branca, folium\n",
      "Successfully installed branca-0.4.1 folium-0.11.0\n"
     ]
    }
   ],
   "source": [
    "!pip install folium\n",
    "import pandas as pd\n",
    "import folium"
   ]
  },
  {
   "cell_type": "markdown",
   "metadata": {},
   "source": [
    "Now we define a function to get the geocodes i.e latitude and longitude of a given location using geopy."
   ]
  },
  {
   "cell_type": "code",
   "execution_count": null,
   "metadata": {},
   "outputs": [],
   "source": []
  },
  {
   "cell_type": "code",
   "execution_count": 11,
   "metadata": {},
   "outputs": [],
   "source": [
    "def geo_location(address):\n",
    "    # get geo location of address\n",
    "    geolocator = Nominatim(user_agent=\"ny_explorer\")\n",
    "    location = geolocator.geocode(address)\n",
    "    latitude = location.latitude\n",
    "    longitude = location.longitude\n",
    "    return latitude,longitude"
   ]
  },
  {
   "cell_type": "markdown",
   "metadata": {},
   "source": [
    "We define a function to intract with FourSquare API and get top 100 venues within a radius of 1000 metres for a given latitude and longitude. Below function will return us the venue id , venue name and category."
   ]
  },
  {
   "cell_type": "code",
   "execution_count": 12,
   "metadata": {},
   "outputs": [],
   "source": [
    "def get_venues(lat,lng):\n",
    "    \n",
    "    #set variables\n",
    "    radius=1000\n",
    "    LIMIT=100\n",
    "    CLIENT_ID = 'U3TPWPFJAYEBC0BC3CTKZ0152KQKZPEC1X2CIZSFAC1DN2IB' # changed my Foursquare ID\n",
    "    CLIENT_SECRET = 'V4GAOJICKHDOX14B4B13WK50D2GIFBNFJO1XYV3GLSWI1RT1' # changed Foursquare Secret\n",
    "    VERSION = '20180605' # Foursquare API version\n",
    "    \n",
    "    #url to fetch data from foursquare api\n",
    "    url = 'https://api.foursquare.com/v2/venues/explore?&client_id={}&client_secret={}&v={}&ll={},{}&radius={}&limit={}'.format(\n",
    "            CLIENT_ID, \n",
    "            CLIENT_SECRET, \n",
    "            VERSION, \n",
    "            lat, \n",
    "            lng, \n",
    "            radius, \n",
    "            LIMIT)\n",
    "    \n",
    "    # get all the data\n",
    "    results = requests.get(url).json()\n",
    "    venue_data=results[\"response\"]['groups'][0]['items']\n",
    "    venue_details=[]\n",
    "    for row in venue_data:\n",
    "        try:\n",
    "            venue_id=row['venue']['id']\n",
    "            venue_name=row['venue']['name']\n",
    "            venue_category=row['venue']['categories'][0]['name']\n",
    "            venue_details.append([venue_id,venue_name,venue_category])\n",
    "        except KeyError:\n",
    "            pass\n",
    "        \n",
    "    column_names=['ID','Name','Category']\n",
    "    df = pd.DataFrame(venue_details,columns=column_names)\n",
    "    print(\"done\")\n",
    "    return df"
   ]
  },
  {
   "cell_type": "markdown",
   "metadata": {},
   "source": [
    "Now we will define a function to get venue details like like count , rating , tip counts for a given venue id. This will be used for ranking."
   ]
  },
  {
   "cell_type": "code",
   "execution_count": 13,
   "metadata": {},
   "outputs": [],
   "source": [
    "def get_venue_details(venue_id):\n",
    "        \n",
    "    CLIENT_ID = 'U3TPWPFJAYEBC0BC3CTKZ0152KQKZPEC1X2CIZSFAC1DN2IB' # i have changed the id with ##\n",
    "    CLIENT_SECRET = 'V4GAOJICKHDOX14B4B13WK50D2GIFBNFJO1XYV3GLSWI1RT1' # i have changed the secret with ##\n",
    "    VERSION = '20180605' # Foursquare API version\n",
    "    \n",
    "    #url to fetch data from foursquare api\n",
    "    url = 'https://api.foursquare.com/v2/venues/{}?&client_id={}&client_secret={}&v={}'.format(\n",
    "            venue_id,\n",
    "            CLIENT_ID, \n",
    "            CLIENT_SECRET, \n",
    "            VERSION)\n",
    "    \n",
    "    # get all the data\n",
    "    results = requests.get(url).json()\n",
    "    venue_data=results['response']['venue']\n",
    "    venue_details=[]\n",
    "    try:\n",
    "        venue_id=venue_data['id']\n",
    "        venue_name=venue_data['name']\n",
    "        venue_likes=venue_data['likes']['count']\n",
    "        venue_rating=venue_data['rating']\n",
    "        venue_tips=venue_data['tips']['count']\n",
    "        venue_details.append([venue_id,venue_name,venue_likes,venue_rating,venue_tips])\n",
    "    except KeyError:\n",
    "        pass\n",
    "        \n",
    "    column_names=['ID','Name','Likes','Rating','Tips']\n",
    "    df = pd.DataFrame(venue_details,columns=column_names)\n",
    "    return df"
   ]
  },
  {
   "cell_type": "markdown",
   "metadata": {},
   "source": [
    "Now we define a funtion to get the new york city data such as Boroughs, Neighborhoods along with their latitude and longitude."
   ]
  },
  {
   "cell_type": "code",
   "execution_count": 14,
   "metadata": {},
   "outputs": [],
   "source": [
    "def get_new_york_data():\n",
    "    url='https://cocl.us/new_york_dataset'\n",
    "    resp=requests.get(url).json()\n",
    "    # all data is present in features label\n",
    "    features=resp['features']\n",
    "    \n",
    "    # define the dataframe columns\n",
    "    column_names = ['Borough', 'Neighborhood', 'Latitude', 'Longitude'] \n",
    "    # instantiate the dataframe\n",
    "    new_york_data = pd.DataFrame(columns=column_names)\n",
    "    \n",
    "    for data in features:\n",
    "        borough = data['properties']['borough'] \n",
    "        neighborhood_name = data['properties']['name']\n",
    "        \n",
    "        neighborhood_latlon = data['geometry']['coordinates']\n",
    "        neighborhood_lat = neighborhood_latlon[1]\n",
    "        neighborhood_lon = neighborhood_latlon[0]\n",
    "    \n",
    "        new_york_data = new_york_data.append({'Borough': borough,\n",
    "                                          'Neighborhood': neighborhood_name,\n",
    "                                          'Latitude': neighborhood_lat,\n",
    "                                          'Longitude': neighborhood_lon}, ignore_index=True)\n",
    "    \n",
    "    return new_york_data"
   ]
  },
  {
   "cell_type": "markdown",
   "metadata": {},
   "source": [
    "\n",
    "We will call the above funtion to get the new york city data."
   ]
  },
  {
   "cell_type": "code",
   "execution_count": 15,
   "metadata": {},
   "outputs": [
    {
     "data": {
      "text/html": [
       "<div>\n",
       "<style scoped>\n",
       "    .dataframe tbody tr th:only-of-type {\n",
       "        vertical-align: middle;\n",
       "    }\n",
       "\n",
       "    .dataframe tbody tr th {\n",
       "        vertical-align: top;\n",
       "    }\n",
       "\n",
       "    .dataframe thead th {\n",
       "        text-align: right;\n",
       "    }\n",
       "</style>\n",
       "<table border=\"1\" class=\"dataframe\">\n",
       "  <thead>\n",
       "    <tr style=\"text-align: right;\">\n",
       "      <th></th>\n",
       "      <th>Borough</th>\n",
       "      <th>Neighborhood</th>\n",
       "      <th>Latitude</th>\n",
       "      <th>Longitude</th>\n",
       "    </tr>\n",
       "  </thead>\n",
       "  <tbody>\n",
       "    <tr>\n",
       "      <th>0</th>\n",
       "      <td>Bronx</td>\n",
       "      <td>Wakefield</td>\n",
       "      <td>40.894705</td>\n",
       "      <td>-73.847201</td>\n",
       "    </tr>\n",
       "    <tr>\n",
       "      <th>1</th>\n",
       "      <td>Bronx</td>\n",
       "      <td>Co-op City</td>\n",
       "      <td>40.874294</td>\n",
       "      <td>-73.829939</td>\n",
       "    </tr>\n",
       "    <tr>\n",
       "      <th>2</th>\n",
       "      <td>Bronx</td>\n",
       "      <td>Eastchester</td>\n",
       "      <td>40.887556</td>\n",
       "      <td>-73.827806</td>\n",
       "    </tr>\n",
       "    <tr>\n",
       "      <th>3</th>\n",
       "      <td>Bronx</td>\n",
       "      <td>Fieldston</td>\n",
       "      <td>40.895437</td>\n",
       "      <td>-73.905643</td>\n",
       "    </tr>\n",
       "    <tr>\n",
       "      <th>4</th>\n",
       "      <td>Bronx</td>\n",
       "      <td>Riverdale</td>\n",
       "      <td>40.890834</td>\n",
       "      <td>-73.912585</td>\n",
       "    </tr>\n",
       "  </tbody>\n",
       "</table>\n",
       "</div>"
      ],
      "text/plain": [
       "  Borough Neighborhood   Latitude  Longitude\n",
       "0   Bronx    Wakefield  40.894705 -73.847201\n",
       "1   Bronx   Co-op City  40.874294 -73.829939\n",
       "2   Bronx  Eastchester  40.887556 -73.827806\n",
       "3   Bronx    Fieldston  40.895437 -73.905643\n",
       "4   Bronx    Riverdale  40.890834 -73.912585"
      ]
     },
     "execution_count": 15,
     "metadata": {},
     "output_type": "execute_result"
    }
   ],
   "source": [
    "# get new york data\n",
    "new_york_data=get_new_york_data()\n",
    "new_york_data.head()"
   ]
  },
  {
   "cell_type": "markdown",
   "metadata": {},
   "source": [
    "So there are total of 306 different Neighborhoods in New York"
   ]
  },
  {
   "cell_type": "code",
   "execution_count": 16,
   "metadata": {},
   "outputs": [
    {
     "data": {
      "image/png": "[encoded data removed]",
      "text/plain": [
       "<Figure size 900x500 with 1 Axes>"
      ]
     },
     "metadata": {
      "needs_background": "light"
     },
     "output_type": "display_data"
    }
   ],
   "source": [
    "\n",
    "plt.figure(figsize=(9,5), dpi = 100)\n",
    "# title\n",
    "plt.title('Number of Neighborhood for each Borough in New York City')\n",
    "#On x-axis\n",
    "plt.xlabel('Borough', fontsize = 15)\n",
    "#On y-axis\n",
    "plt.ylabel('No.of Neighborhood', fontsize=15)\n",
    "#giving a bar plot\n",
    "new_york_data.groupby('Borough')['Neighborhood'].count().plot(kind='bar')\n",
    "#legend\n",
    "plt.legend()\n",
    "#displays the plot\n",
    "plt.show()"
   ]
  },
  {
   "cell_type": "markdown",
   "metadata": {},
   "source": [
    "We see that Queens has highest number of neighborhoods\n",
    "\n",
    "Now we will collect Indian resturants for each Neighborhood"
   ]
  },
  {
   "cell_type": "code",
   "execution_count": 17,
   "metadata": {},
   "outputs": [
    {
     "name": "stdout",
     "output_type": "stream",
     "text": [
      "done\n",
      "( 1 / 306 ) Indian Resturants in Wakefield, Bronx:0\n",
      "done\n",
      "( 2 / 306 ) Indian Resturants in Co-op City, Bronx:0\n",
      "done\n",
      "( 3 / 306 ) Indian Resturants in Eastchester, Bronx:0\n",
      "done\n",
      "( 4 / 306 ) Indian Resturants in Fieldston, Bronx:0\n",
      "done\n",
      "( 5 / 306 ) Indian Resturants in Riverdale, Bronx:0\n",
      "done\n",
      "( 6 / 306 ) Indian Resturants in Kingsbridge, Bronx:0\n"
     ]
    },
    {
     "ename": "KeyError",
     "evalue": "'groups'",
     "output_type": "error",
     "traceback": [
      "\u001b[0;31m---------------------------------------------------------------------------\u001b[0m",
      "\u001b[0;31mKeyError\u001b[0m                                  Traceback (most recent call last)",
      "\u001b[0;32m<ipython-input-17-7a917332b722>\u001b[0m in \u001b[0;36m<module>\u001b[0;34m\u001b[0m\n\u001b[1;32m      5\u001b[0m \u001b[0;32mfor\u001b[0m \u001b[0mrow\u001b[0m \u001b[0;32min\u001b[0m \u001b[0mnew_york_data\u001b[0m\u001b[0;34m.\u001b[0m\u001b[0mvalues\u001b[0m\u001b[0;34m.\u001b[0m\u001b[0mtolist\u001b[0m\u001b[0;34m(\u001b[0m\u001b[0;34m)\u001b[0m\u001b[0;34m:\u001b[0m\u001b[0;34m\u001b[0m\u001b[0;34m\u001b[0m\u001b[0m\n\u001b[1;32m      6\u001b[0m     \u001b[0mBorough\u001b[0m\u001b[0;34m,\u001b[0m \u001b[0mNeighborhood\u001b[0m\u001b[0;34m,\u001b[0m \u001b[0mLatitude\u001b[0m\u001b[0;34m,\u001b[0m \u001b[0mLongitude\u001b[0m\u001b[0;34m=\u001b[0m\u001b[0mrow\u001b[0m\u001b[0;34m\u001b[0m\u001b[0;34m\u001b[0m\u001b[0m\n\u001b[0;32m----> 7\u001b[0;31m     \u001b[0mvenues\u001b[0m \u001b[0;34m=\u001b[0m \u001b[0mget_venues\u001b[0m\u001b[0;34m(\u001b[0m\u001b[0mLatitude\u001b[0m\u001b[0;34m,\u001b[0m\u001b[0mLongitude\u001b[0m\u001b[0;34m)\u001b[0m\u001b[0;34m\u001b[0m\u001b[0;34m\u001b[0m\u001b[0m\n\u001b[0m\u001b[1;32m      8\u001b[0m     \u001b[0mindian_resturants\u001b[0m\u001b[0;34m=\u001b[0m\u001b[0mvenues\u001b[0m\u001b[0;34m[\u001b[0m\u001b[0mvenues\u001b[0m\u001b[0;34m[\u001b[0m\u001b[0;34m'Category'\u001b[0m\u001b[0;34m]\u001b[0m\u001b[0;34m==\u001b[0m\u001b[0;34m'Indian Restaurant'\u001b[0m\u001b[0;34m]\u001b[0m\u001b[0;34m\u001b[0m\u001b[0;34m\u001b[0m\u001b[0m\n\u001b[1;32m      9\u001b[0m     \u001b[0mprint\u001b[0m\u001b[0;34m(\u001b[0m\u001b[0;34m'('\u001b[0m\u001b[0;34m,\u001b[0m\u001b[0mcount\u001b[0m\u001b[0;34m,\u001b[0m\u001b[0;34m'/'\u001b[0m\u001b[0;34m,\u001b[0m\u001b[0mlen\u001b[0m\u001b[0;34m(\u001b[0m\u001b[0mnew_york_data\u001b[0m\u001b[0;34m)\u001b[0m\u001b[0;34m,\u001b[0m\u001b[0;34m')'\u001b[0m\u001b[0;34m,\u001b[0m\u001b[0;34m'Indian Resturants in '\u001b[0m\u001b[0;34m+\u001b[0m\u001b[0mNeighborhood\u001b[0m\u001b[0;34m+\u001b[0m\u001b[0;34m', '\u001b[0m\u001b[0;34m+\u001b[0m\u001b[0mBorough\u001b[0m\u001b[0;34m+\u001b[0m\u001b[0;34m':'\u001b[0m\u001b[0;34m+\u001b[0m\u001b[0mstr\u001b[0m\u001b[0;34m(\u001b[0m\u001b[0mlen\u001b[0m\u001b[0;34m(\u001b[0m\u001b[0mindian_resturants\u001b[0m\u001b[0;34m)\u001b[0m\u001b[0;34m)\u001b[0m\u001b[0;34m)\u001b[0m\u001b[0;34m\u001b[0m\u001b[0;34m\u001b[0m\u001b[0m\n",
      "\u001b[0;32m<ipython-input-12-6868a45aa426>\u001b[0m in \u001b[0;36mget_venues\u001b[0;34m(lat, lng)\u001b[0m\n\u001b[1;32m     20\u001b[0m     \u001b[0;31m# get all the data\u001b[0m\u001b[0;34m\u001b[0m\u001b[0;34m\u001b[0m\u001b[0;34m\u001b[0m\u001b[0m\n\u001b[1;32m     21\u001b[0m     \u001b[0mresults\u001b[0m \u001b[0;34m=\u001b[0m \u001b[0mrequests\u001b[0m\u001b[0;34m.\u001b[0m\u001b[0mget\u001b[0m\u001b[0;34m(\u001b[0m\u001b[0murl\u001b[0m\u001b[0;34m)\u001b[0m\u001b[0;34m.\u001b[0m\u001b[0mjson\u001b[0m\u001b[0;34m(\u001b[0m\u001b[0;34m)\u001b[0m\u001b[0;34m\u001b[0m\u001b[0;34m\u001b[0m\u001b[0m\n\u001b[0;32m---> 22\u001b[0;31m     \u001b[0mvenue_data\u001b[0m\u001b[0;34m=\u001b[0m\u001b[0mresults\u001b[0m\u001b[0;34m[\u001b[0m\u001b[0;34m\"response\"\u001b[0m\u001b[0;34m]\u001b[0m\u001b[0;34m[\u001b[0m\u001b[0;34m'groups'\u001b[0m\u001b[0;34m]\u001b[0m\u001b[0;34m[\u001b[0m\u001b[0;36m0\u001b[0m\u001b[0;34m]\u001b[0m\u001b[0;34m[\u001b[0m\u001b[0;34m'items'\u001b[0m\u001b[0;34m]\u001b[0m\u001b[0;34m\u001b[0m\u001b[0;34m\u001b[0m\u001b[0m\n\u001b[0m\u001b[1;32m     23\u001b[0m     \u001b[0mvenue_details\u001b[0m\u001b[0;34m=\u001b[0m\u001b[0;34m[\u001b[0m\u001b[0;34m]\u001b[0m\u001b[0;34m\u001b[0m\u001b[0;34m\u001b[0m\u001b[0m\n\u001b[1;32m     24\u001b[0m     \u001b[0;32mfor\u001b[0m \u001b[0mrow\u001b[0m \u001b[0;32min\u001b[0m \u001b[0mvenue_data\u001b[0m\u001b[0;34m:\u001b[0m\u001b[0;34m\u001b[0m\u001b[0;34m\u001b[0m\u001b[0m\n",
      "\u001b[0;31mKeyError\u001b[0m: 'groups'"
     ]
    }
   ],
   "source": [
    "# prepare neighborhood list that contains indian resturants\n",
    "column_names=['Borough', 'Neighborhood', 'ID','Name']\n",
    "indian_rest_ny=pd.DataFrame(columns=column_names)\n",
    "count=1\n",
    "for row in new_york_data.values.tolist():\n",
    "    Borough, Neighborhood, Latitude, Longitude=row\n",
    "    venues = get_venues(Latitude,Longitude)\n",
    "    indian_resturants=venues[venues['Category']=='Indian Restaurant']   \n",
    "    print('(',count,'/',len(new_york_data),')','Indian Resturants in '+Neighborhood+', '+Borough+':'+str(len(indian_resturants)))\n",
    "    for resturant_detail in indian_resturants.values.tolist():\n",
    "        id, name , category=resturant_detail\n",
    "        indian_rest_ny = indian_rest_ny.append({'Borough': Borough,\n",
    "                                                'Neighborhood': Neighborhood, \n",
    "                                                'ID': id,\n",
    "                                                'Name' : name\n",
    "                                               }, ignore_index=True)\n",
    "    count+=1"
   ]
  },
  {
   "cell_type": "markdown",
   "metadata": {},
   "source": [
    "Now that we have got all the indian resturants in new york city , we will analyze it"
   ]
  },
  {
   "cell_type": "code",
   "execution_count": 12,
   "metadata": {},
   "outputs": [
    {
     "data": {
      "text/html": [
       "<div>\n",
       "<style scoped>\n",
       "    .dataframe tbody tr th:only-of-type {\n",
       "        vertical-align: middle;\n",
       "    }\n",
       "\n",
       "    .dataframe tbody tr th {\n",
       "        vertical-align: top;\n",
       "    }\n",
       "\n",
       "    .dataframe thead th {\n",
       "        text-align: right;\n",
       "    }\n",
       "</style>\n",
       "<table border=\"1\" class=\"dataframe\">\n",
       "  <thead>\n",
       "    <tr style=\"text-align: right;\">\n",
       "      <th></th>\n",
       "      <th>Borough</th>\n",
       "      <th>Neighborhood</th>\n",
       "      <th>ID</th>\n",
       "      <th>Name</th>\n",
       "    </tr>\n",
       "  </thead>\n",
       "  <tbody>\n",
       "    <tr>\n",
       "      <th>0</th>\n",
       "      <td>Bronx</td>\n",
       "      <td>Woodlawn</td>\n",
       "      <td>4c0448d9310fc9b6bf1dc761</td>\n",
       "      <td>Curry Spot</td>\n",
       "    </tr>\n",
       "    <tr>\n",
       "      <th>1</th>\n",
       "      <td>Bronx</td>\n",
       "      <td>Parkchester</td>\n",
       "      <td>4c194631838020a13e78e561</td>\n",
       "      <td>Melanies Roti Bar And Grill</td>\n",
       "    </tr>\n",
       "    <tr>\n",
       "      <th>2</th>\n",
       "      <td>Bronx</td>\n",
       "      <td>Spuyten Duyvil</td>\n",
       "      <td>4c04544df423a593ac83d116</td>\n",
       "      <td>Cumin Indian Cuisine</td>\n",
       "    </tr>\n",
       "    <tr>\n",
       "      <th>3</th>\n",
       "      <td>Bronx</td>\n",
       "      <td>Concourse</td>\n",
       "      <td>551b7f75498e86c00a0ed2e1</td>\n",
       "      <td>Hungry Bird</td>\n",
       "    </tr>\n",
       "    <tr>\n",
       "      <th>4</th>\n",
       "      <td>Bronx</td>\n",
       "      <td>Unionport</td>\n",
       "      <td>4c194631838020a13e78e561</td>\n",
       "      <td>Melanies Roti Bar And Grill</td>\n",
       "    </tr>\n",
       "  </tbody>\n",
       "</table>\n",
       "</div>"
      ],
      "text/plain": [
       "  Borough    Neighborhood                        ID  \\\n",
       "0   Bronx        Woodlawn  4c0448d9310fc9b6bf1dc761   \n",
       "1   Bronx     Parkchester  4c194631838020a13e78e561   \n",
       "2   Bronx  Spuyten Duyvil  4c04544df423a593ac83d116   \n",
       "3   Bronx       Concourse  551b7f75498e86c00a0ed2e1   \n",
       "4   Bronx       Unionport  4c194631838020a13e78e561   \n",
       "\n",
       "                          Name  \n",
       "0                   Curry Spot  \n",
       "1  Melanies Roti Bar And Grill  \n",
       "2         Cumin Indian Cuisine  \n",
       "3                  Hungry Bird  \n",
       "4  Melanies Roti Bar And Grill  "
      ]
     },
     "execution_count": 12,
     "metadata": {},
     "output_type": "execute_result"
    }
   ],
   "source": [
    "\n",
    "indian_rest_ny.head()"
   ]
  },
  {
   "cell_type": "code",
   "execution_count": 13,
   "metadata": {},
   "outputs": [
    {
     "data": {
      "text/plain": [
       "(153, 4)"
      ]
     },
     "execution_count": 13,
     "metadata": {},
     "output_type": "execute_result"
    }
   ],
   "source": [
    "\n",
    "indian_rest_ny.shape"
   ]
  },
  {
   "cell_type": "markdown",
   "metadata": {},
   "source": [
    "\n",
    "We got 153 Indian Resturants across New York City"
   ]
  },
  {
   "cell_type": "code",
   "execution_count": 14,
   "metadata": {},
   "outputs": [
    {
     "data": {
      "image/png": "[encoded data removed]",
      "text/plain": [
       "<Figure size 900x500 with 1 Axes>"
      ]
     },
     "metadata": {
      "needs_background": "light"
     },
     "output_type": "display_data"
    }
   ],
   "source": [
    "plt.figure(figsize=(9,5), dpi = 100)\n",
    "# title\n",
    "plt.title('Number of Indian Resturants for each Borough in New York City')\n",
    "#On x-axis\n",
    "plt.xlabel('Borough', fontsize = 15)\n",
    "#On y-axis\n",
    "plt.ylabel('No.of Indian Resturants', fontsize=15)\n",
    "#giving a bar plot\n",
    "indian_rest_ny.groupby('Borough')['ID'].count().plot(kind='bar')\n",
    "#legend\n",
    "plt.legend()\n",
    "#displays the plot\n",
    "plt.show()"
   ]
  },
  {
   "cell_type": "markdown",
   "metadata": {},
   "source": [
    "\n",
    "We see that Queens has the largest number of indian resturants"
   ]
  },
  {
   "cell_type": "code",
   "execution_count": 15,
   "metadata": {},
   "outputs": [
    {
     "data": {
      "image/png": "[encoded data removed]",
      "text/plain": [
       "<Figure size 900x500 with 1 Axes>"
      ]
     },
     "metadata": {
      "needs_background": "light"
     },
     "output_type": "display_data"
    }
   ],
   "source": [
    "plt.figure(figsize=(9,5), dpi = 100)\n",
    "# title\n",
    "plt.title('Number of Indian Resturants for each Neighborhood in New York City')\n",
    "#On x-axis\n",
    "plt.xlabel('Neighborhood', fontsize = 15)\n",
    "#On y-axis\n",
    "plt.ylabel('No.of Indian Resturants', fontsize=15)\n",
    "#giving a bar plot\n",
    "indian_rest_ny.groupby('Neighborhood')['ID'].count().nlargest(5).plot(kind='bar')\n",
    "#legend\n",
    "plt.legend()\n",
    "#displays the plot\n",
    "plt.show()"
   ]
  },
  {
   "cell_type": "code",
   "execution_count": 16,
   "metadata": {},
   "outputs": [
    {
     "data": {
      "text/html": [
       "<div>\n",
       "<style scoped>\n",
       "    .dataframe tbody tr th:only-of-type {\n",
       "        vertical-align: middle;\n",
       "    }\n",
       "\n",
       "    .dataframe tbody tr th {\n",
       "        vertical-align: top;\n",
       "    }\n",
       "\n",
       "    .dataframe thead th {\n",
       "        text-align: right;\n",
       "    }\n",
       "</style>\n",
       "<table border=\"1\" class=\"dataframe\">\n",
       "  <thead>\n",
       "    <tr style=\"text-align: right;\">\n",
       "      <th></th>\n",
       "      <th>Borough</th>\n",
       "      <th>Neighborhood</th>\n",
       "      <th>ID</th>\n",
       "      <th>Name</th>\n",
       "    </tr>\n",
       "  </thead>\n",
       "  <tbody>\n",
       "    <tr>\n",
       "      <th>103</th>\n",
       "      <td>Queens</td>\n",
       "      <td>Floral Park</td>\n",
       "      <td>4e4e3e22bd4101d0d7a5c2d1</td>\n",
       "      <td>Kerala Kitchen</td>\n",
       "    </tr>\n",
       "    <tr>\n",
       "      <th>104</th>\n",
       "      <td>Queens</td>\n",
       "      <td>Floral Park</td>\n",
       "      <td>4b647b56f964a520c4b62ae3</td>\n",
       "      <td>Usha Foods &amp; Usha Sweets</td>\n",
       "    </tr>\n",
       "    <tr>\n",
       "      <th>105</th>\n",
       "      <td>Queens</td>\n",
       "      <td>Floral Park</td>\n",
       "      <td>527ffc0811d2d329d5e49abd</td>\n",
       "      <td>Jackson Diner</td>\n",
       "    </tr>\n",
       "    <tr>\n",
       "      <th>106</th>\n",
       "      <td>Queens</td>\n",
       "      <td>Floral Park</td>\n",
       "      <td>4b787c49f964a5209cd12ee3</td>\n",
       "      <td>Santoor Indian Restaurant</td>\n",
       "    </tr>\n",
       "    <tr>\n",
       "      <th>107</th>\n",
       "      <td>Queens</td>\n",
       "      <td>Floral Park</td>\n",
       "      <td>4c0c01e0bbc676b00d6b4cd5</td>\n",
       "      <td>Mumbai Xpress</td>\n",
       "    </tr>\n",
       "    <tr>\n",
       "      <th>108</th>\n",
       "      <td>Queens</td>\n",
       "      <td>Floral Park</td>\n",
       "      <td>4c76ff35a5676dcb72671721</td>\n",
       "      <td>Flavor Of India</td>\n",
       "    </tr>\n",
       "    <tr>\n",
       "      <th>109</th>\n",
       "      <td>Queens</td>\n",
       "      <td>Floral Park</td>\n",
       "      <td>4df0f39dd4c04d0392c853ea</td>\n",
       "      <td>Sagar Chinese</td>\n",
       "    </tr>\n",
       "    <tr>\n",
       "      <th>110</th>\n",
       "      <td>Queens</td>\n",
       "      <td>Floral Park</td>\n",
       "      <td>571af96a498e9e392d8d3786</td>\n",
       "      <td>Namaste Authenic Indian Cuisine</td>\n",
       "    </tr>\n",
       "    <tr>\n",
       "      <th>111</th>\n",
       "      <td>Queens</td>\n",
       "      <td>Floral Park</td>\n",
       "      <td>55d68c1b498ecf05fa196fe1</td>\n",
       "      <td>Namaste Restaurant and Cafe</td>\n",
       "    </tr>\n",
       "    <tr>\n",
       "      <th>112</th>\n",
       "      <td>Queens</td>\n",
       "      <td>Floral Park</td>\n",
       "      <td>4c3e17f2ca012d7f82022fbe</td>\n",
       "      <td>Mushin's Halal Food [Gyro Cart]</td>\n",
       "    </tr>\n",
       "    <tr>\n",
       "      <th>113</th>\n",
       "      <td>Queens</td>\n",
       "      <td>Floral Park</td>\n",
       "      <td>4e6bfe1c7d8b2c711b17bbe5</td>\n",
       "      <td>Surya sweets and snacks</td>\n",
       "    </tr>\n",
       "  </tbody>\n",
       "</table>\n",
       "</div>"
      ],
      "text/plain": [
       "    Borough Neighborhood                        ID  \\\n",
       "103  Queens  Floral Park  4e4e3e22bd4101d0d7a5c2d1   \n",
       "104  Queens  Floral Park  4b647b56f964a520c4b62ae3   \n",
       "105  Queens  Floral Park  527ffc0811d2d329d5e49abd   \n",
       "106  Queens  Floral Park  4b787c49f964a5209cd12ee3   \n",
       "107  Queens  Floral Park  4c0c01e0bbc676b00d6b4cd5   \n",
       "108  Queens  Floral Park  4c76ff35a5676dcb72671721   \n",
       "109  Queens  Floral Park  4df0f39dd4c04d0392c853ea   \n",
       "110  Queens  Floral Park  571af96a498e9e392d8d3786   \n",
       "111  Queens  Floral Park  55d68c1b498ecf05fa196fe1   \n",
       "112  Queens  Floral Park  4c3e17f2ca012d7f82022fbe   \n",
       "113  Queens  Floral Park  4e6bfe1c7d8b2c711b17bbe5   \n",
       "\n",
       "                                Name  \n",
       "103                   Kerala Kitchen  \n",
       "104         Usha Foods & Usha Sweets  \n",
       "105                    Jackson Diner  \n",
       "106        Santoor Indian Restaurant  \n",
       "107                    Mumbai Xpress  \n",
       "108                  Flavor Of India  \n",
       "109                    Sagar Chinese  \n",
       "110  Namaste Authenic Indian Cuisine  \n",
       "111      Namaste Restaurant and Cafe  \n",
       "112  Mushin's Halal Food [Gyro Cart]  \n",
       "113          Surya sweets and snacks  "
      ]
     },
     "execution_count": 16,
     "metadata": {},
     "output_type": "execute_result"
    }
   ],
   "source": [
    "indian_rest_ny[indian_rest_ny['Neighborhood']=='Floral Park']"
   ]
  },
  {
   "cell_type": "markdown",
   "metadata": {},
   "source": [
    "So Floral Park in Queens has the highest number of Indian Resturants with a total count of 9.\n",
    "\n",
    "Now we will get the ranking of each resturant for further analysis."
   ]
  },
  {
   "cell_type": "code",
   "execution_count": 24,
   "metadata": {},
   "outputs": [
    {
     "name": "stdout",
     "output_type": "stream",
     "text": [
      "                         ID        Name  Likes  Rating  Tips\n",
      "0  4c0448d9310fc9b6bf1dc761  Curry Spot      4     8.1    11\n",
      "( 1 / 153 ) processed\n",
      "                         ID                         Name  Likes  Rating  Tips\n",
      "0  4c194631838020a13e78e561  Melanies Roti Bar And Grill      3     6.0     2\n",
      "( 2 / 153 ) processed\n",
      "                         ID                  Name  Likes  Rating  Tips\n",
      "0  4c04544df423a593ac83d116  Cumin Indian Cuisine     13     6.1     9\n",
      "( 3 / 153 ) processed\n",
      "                         ID         Name  Likes  Rating  Tips\n",
      "0  551b7f75498e86c00a0ed2e1  Hungry Bird      8     6.9     3\n",
      "( 4 / 153 ) processed\n",
      "                         ID                         Name  Likes  Rating  Tips\n",
      "0  4c194631838020a13e78e561  Melanies Roti Bar And Grill      3     6.0     2\n",
      "( 5 / 153 ) processed\n",
      "                         ID       Name  Likes  Rating  Tips\n",
      "0  4b5a4dc8f964a520a2bb28e3  Taj Mahal     38     8.2    26\n",
      "( 6 / 153 ) processed\n",
      "                         ID          Name  Likes  Rating  Tips\n",
      "0  545835a1498e820edc6f636f  Bombay Grill     14     7.2     4\n",
      "( 7 / 153 ) processed\n",
      "                         ID          Name  Likes  Rating  Tips\n",
      "0  4af0d31bf964a5207ddf21e3  Pak Nasheman      9     7.2     4\n",
      "( 8 / 153 ) processed\n",
      "                         ID          Name  Likes  Rating  Tips\n",
      "0  52213c4211d295d4c57a607c  Ashoka Grill      8     7.2    14\n",
      "( 9 / 153 ) processed\n",
      "                         ID                Name  Likes  Rating  Tips\n",
      "0  564d283d498e6e851df79d87  Great Indian Curry      3     6.8     2\n",
      "( 10 / 153 ) processed\n",
      "                         ID          Name  Likes  Rating  Tips\n",
      "0  512a9ea9e4b004fb8eeb84e5  Silver Krust     12     8.2     3\n",
      "( 11 / 153 ) processed\n",
      "                         ID       Name  Likes  Rating  Tips\n",
      "0  4db0f4371e729fcc56497f20  Mashallah     19     7.4     7\n",
      "( 12 / 153 ) processed\n",
      "                         ID                          Name  Likes  Rating  Tips\n",
      "0  4b718914f964a520c04b2de3  Madina Restaurant and Sweets     17     7.0    12\n",
      "( 13 / 153 ) processed\n",
      "                         ID                       Name  Likes  Rating  Tips\n",
      "0  52f18573498ec2c34e830ffd  Kanan's Indian Restaurant     23     7.8     8\n",
      "( 14 / 153 ) processed\n",
      "                         ID         Name  Likes  Rating  Tips\n",
      "0  57596dad498e732300496b23  Dosa Royale     73     8.6    22\n",
      "( 15 / 153 ) processed\n",
      "                         ID         Name  Likes  Rating  Tips\n",
      "0  57596dad498e732300496b23  Dosa Royale     73     8.6    22\n",
      "( 16 / 153 ) processed\n",
      "                         ID           Name  Likes  Rating  Tips\n",
      "0  568d3902498e619efcbc3f58  Spice & Grill     19     7.7     6\n",
      "( 17 / 153 ) processed\n",
      "                         ID                        Name  Likes  Rating  Tips\n",
      "0  4bb93b70cf2fc9b6fe64a002  Gandhi Fine Indian Cuisine     80     8.8    46\n",
      "( 18 / 153 ) processed\n",
      "                         ID     Name  Likes  Rating  Tips\n",
      "0  4ec80587d3e3e131f2e72835  Bayleaf      7     7.1     7\n",
      "( 19 / 153 ) processed\n",
      "                         ID             Name  Likes  Rating  Tips\n",
      "0  5539753f498edbace4746b67  Tandoori Masala     12     8.0     2\n",
      "( 20 / 153 ) processed\n",
      "                         ID           Name  Likes  Rating  Tips\n",
      "0  4f6cae2ee4b0d4a5afcef5c0  Delhi Heights     22     8.1     8\n",
      "( 21 / 153 ) processed\n",
      "Empty DataFrame\n",
      "Columns: [ID, Name, Likes, Rating, Tips]\n",
      "Index: []\n",
      "No data available for id= 4e4e4c8fbd4101d0d7a726b3\n",
      "( 22 / 153 ) processed\n",
      "                         ID                     Name  Likes  Rating  Tips\n",
      "0  519ff6c8498e1300ddcbd45c  Anarkali Indian Cuisine     14     7.7     8\n",
      "( 23 / 153 ) processed\n",
      "                         ID       Name  Likes  Rating  Tips\n",
      "0  4db0f4371e729fcc56497f20  Mashallah     19     7.4     7\n",
      "( 24 / 153 ) processed\n",
      "                         ID                          Name  Likes  Rating  Tips\n",
      "0  4b718914f964a520c04b2de3  Madina Restaurant and Sweets     17     7.0    12\n",
      "( 25 / 153 ) processed\n",
      "                         ID                Name  Likes  Rating  Tips\n",
      "0  5631511b498e3d6d7e0a4df0  Tikka Indian Grill     94     8.6    26\n",
      "( 26 / 153 ) processed\n",
      "                         ID                Name  Likes  Rating  Tips\n",
      "0  5631511b498e3d6d7e0a4df0  Tikka Indian Grill     94     8.6    26\n",
      "( 27 / 153 ) processed\n",
      "                         ID          Name  Likes  Rating  Tips\n",
      "0  545835a1498e820edc6f636f  Bombay Grill     14     7.2     4\n",
      "( 28 / 153 ) processed\n",
      "                         ID                      Name  Likes  Rating  Tips\n",
      "0  4ae7876ef964a5201eac21e3  Kismat Indian Restaurant     45     7.8    24\n",
      "( 29 / 153 ) processed\n",
      "                         ID                           Name  Likes  Rating  \\\n",
      "0  54c2bd96498eaf5142e3fe92  Clove Indian Restaurant & Bar     29     7.6   \n",
      "\n",
      "   Tips  \n",
      "0    15  \n",
      "( 30 / 153 ) processed\n",
      "                         ID           Name  Likes  Rating  Tips\n",
      "0  5914ff32b23dfa207eca38de  Mumbai Masala     13     7.4     6\n",
      "( 31 / 153 ) processed\n",
      "                         ID                 Name  Likes  Rating  Tips\n",
      "0  529d382a11d2dd5ef107e641  Chapati House - NYC     73     8.0    18\n",
      "( 32 / 153 ) processed\n",
      "                         ID                           Name  Likes  Rating  \\\n",
      "0  54c2bd96498eaf5142e3fe92  Clove Indian Restaurant & Bar     29     7.6   \n",
      "\n",
      "   Tips  \n",
      "0    15  \n",
      "( 33 / 153 ) processed\n",
      "                         ID          Name  Likes  Rating  Tips\n",
      "0  56d87f3d498ee215abee5724  Delhi Masala     13     8.7     3\n",
      "( 34 / 153 ) processed\n",
      "                         ID                           Name  Likes  Rating  \\\n",
      "0  54c2bd96498eaf5142e3fe92  Clove Indian Restaurant & Bar     29     7.6   \n",
      "\n",
      "   Tips  \n",
      "0    15  \n",
      "( 35 / 153 ) processed\n",
      "                         ID      Name  Likes  Rating  Tips\n",
      "0  519fe6f5498e30595d370c44  Bawarchi      9     7.7     4\n",
      "( 36 / 153 ) processed\n",
      "                         ID            Name  Likes  Rating  Tips\n",
      "0  5272ca4511d22488f6895caf  Drunken Munkey    206     8.4    61\n",
      "( 37 / 153 ) processed\n",
      "                         ID              Name  Likes  Rating  Tips\n",
      "0  4fe4fb50c2eee335e4fea69d  Moti Mahal Delux    184     8.4    81\n",
      "( 38 / 153 ) processed\n",
      "                         ID    Name  Likes  Rating  Tips\n",
      "0  591890f43abcaf1ddca66e85  Ashoka     19     8.4     9\n",
      "( 39 / 153 ) processed\n",
      "                         ID           Name  Likes  Rating  Tips\n",
      "0  4b0dec08f964a520ae5223e3  Alachi Masala     18     7.7    17\n",
      "( 40 / 153 ) processed\n",
      "                         ID    Name  Likes  Rating  Tips\n",
      "0  42489a80f964a5208b201fe3  Swagat    105     8.3    38\n",
      "( 41 / 153 ) processed\n",
      "                         ID                   Name  Likes  Rating  Tips\n",
      "0  49d91c12f964a520015e1fe3  The Kati Roll Company    836     8.8   259\n",
      "( 42 / 153 ) processed\n",
      "                         ID                   Name  Likes  Rating  Tips\n",
      "0  59fcd48c464d6567ed2f5e37  The Kati Roll Company     17     8.7     2\n",
      "( 43 / 153 ) processed\n",
      "                         ID               Name  Likes  Rating  Tips\n",
      "0  4b4aab62f964a520978c26e3  Dil-e Punjab Deli    104     8.8    42\n",
      "( 44 / 153 ) processed\n",
      "                         ID                Name  Likes  Rating  Tips\n",
      "0  5b5a2c9e66f3cd002ca0aab5  The Drunken Munkey     22     8.9     3\n",
      "( 45 / 153 ) processed\n",
      "                         ID              Name  Likes  Rating  Tips\n",
      "0  4bbb9dbded7776b0e1ad3e51  Tamarind TriBeCa    586     9.0   145\n",
      "( 46 / 153 ) processed\n",
      "                         ID                Name  Likes  Rating  Tips\n",
      "0  5b5a2c9e66f3cd002ca0aab5  The Drunken Munkey     22     8.9     3\n",
      "( 47 / 153 ) processed\n",
      "                         ID  Name  Likes  Rating  Tips\n",
      "0  591794df2be42556988e4a8e  Rahi     97     8.8    15\n",
      "( 48 / 153 ) processed\n",
      "                         ID        Name  Likes  Rating  Tips\n",
      "0  4d24b812836f5481518645f7  Doaba Deli     41     7.6    13\n",
      "( 49 / 153 ) processed\n",
      "                         ID              Name  Likes  Rating  Tips\n",
      "0  424de080f964a520ae201fe3  Manhattan Valley     42     7.9    30\n",
      "( 50 / 153 ) processed\n"
     ]
    },
    {
     "ename": "KeyError",
     "evalue": "'venue'",
     "output_type": "error",
     "traceback": [
      "\u001b[0;31m---------------------------------------------------------------------------\u001b[0m",
      "\u001b[0;31mKeyError\u001b[0m                                  Traceback (most recent call last)",
      "\u001b[0;32m<ipython-input-24-10411ff430c3>\u001b[0m in \u001b[0;36m<module>\u001b[0;34m\u001b[0m\n\u001b[1;32m      8\u001b[0m     \u001b[0mBorough\u001b[0m\u001b[0;34m,\u001b[0m\u001b[0mNeighborhood\u001b[0m\u001b[0;34m,\u001b[0m\u001b[0mID\u001b[0m\u001b[0;34m,\u001b[0m\u001b[0mName\u001b[0m\u001b[0;34m=\u001b[0m\u001b[0mrow\u001b[0m\u001b[0;34m\u001b[0m\u001b[0;34m\u001b[0m\u001b[0m\n\u001b[1;32m      9\u001b[0m     \u001b[0;32mtry\u001b[0m\u001b[0;34m:\u001b[0m\u001b[0;34m\u001b[0m\u001b[0;34m\u001b[0m\u001b[0m\n\u001b[0;32m---> 10\u001b[0;31m         \u001b[0mvenue_details\u001b[0m\u001b[0;34m=\u001b[0m\u001b[0mget_venue_details\u001b[0m\u001b[0;34m(\u001b[0m\u001b[0mID\u001b[0m\u001b[0;34m)\u001b[0m\u001b[0;34m\u001b[0m\u001b[0;34m\u001b[0m\u001b[0m\n\u001b[0m\u001b[1;32m     11\u001b[0m         \u001b[0mprint\u001b[0m\u001b[0;34m(\u001b[0m\u001b[0mvenue_details\u001b[0m\u001b[0;34m)\u001b[0m\u001b[0;34m\u001b[0m\u001b[0;34m\u001b[0m\u001b[0m\n\u001b[1;32m     12\u001b[0m         \u001b[0mid\u001b[0m\u001b[0;34m,\u001b[0m\u001b[0mname\u001b[0m\u001b[0;34m,\u001b[0m\u001b[0mlikes\u001b[0m\u001b[0;34m,\u001b[0m\u001b[0mrating\u001b[0m\u001b[0;34m,\u001b[0m\u001b[0mtips\u001b[0m\u001b[0;34m=\u001b[0m\u001b[0mvenue_details\u001b[0m\u001b[0;34m.\u001b[0m\u001b[0mvalues\u001b[0m\u001b[0;34m.\u001b[0m\u001b[0mtolist\u001b[0m\u001b[0;34m(\u001b[0m\u001b[0;34m)\u001b[0m\u001b[0;34m[\u001b[0m\u001b[0;36m0\u001b[0m\u001b[0;34m]\u001b[0m\u001b[0;34m\u001b[0m\u001b[0;34m\u001b[0m\u001b[0m\n",
      "\u001b[0;32m<ipython-input-23-23b735210f73>\u001b[0m in \u001b[0;36mget_venue_details\u001b[0;34m(venue_id)\u001b[0m\n\u001b[1;32m     14\u001b[0m     \u001b[0;31m# get all the data\u001b[0m\u001b[0;34m\u001b[0m\u001b[0;34m\u001b[0m\u001b[0;34m\u001b[0m\u001b[0m\n\u001b[1;32m     15\u001b[0m     \u001b[0mresults\u001b[0m \u001b[0;34m=\u001b[0m \u001b[0mrequests\u001b[0m\u001b[0;34m.\u001b[0m\u001b[0mget\u001b[0m\u001b[0;34m(\u001b[0m\u001b[0murl\u001b[0m\u001b[0;34m)\u001b[0m\u001b[0;34m.\u001b[0m\u001b[0mjson\u001b[0m\u001b[0;34m(\u001b[0m\u001b[0;34m)\u001b[0m\u001b[0;34m\u001b[0m\u001b[0;34m\u001b[0m\u001b[0m\n\u001b[0;32m---> 16\u001b[0;31m     \u001b[0mvenue_data\u001b[0m\u001b[0;34m=\u001b[0m\u001b[0mresults\u001b[0m\u001b[0;34m[\u001b[0m\u001b[0;34m'response'\u001b[0m\u001b[0;34m]\u001b[0m\u001b[0;34m[\u001b[0m\u001b[0;34m'venue'\u001b[0m\u001b[0;34m]\u001b[0m\u001b[0;34m\u001b[0m\u001b[0;34m\u001b[0m\u001b[0m\n\u001b[0m\u001b[1;32m     17\u001b[0m     \u001b[0mvenue_details\u001b[0m\u001b[0;34m=\u001b[0m\u001b[0;34m[\u001b[0m\u001b[0;34m]\u001b[0m\u001b[0;34m\u001b[0m\u001b[0;34m\u001b[0m\u001b[0m\n\u001b[1;32m     18\u001b[0m     \u001b[0;32mtry\u001b[0m\u001b[0;34m:\u001b[0m\u001b[0;34m\u001b[0m\u001b[0;34m\u001b[0m\u001b[0m\n",
      "\u001b[0;31mKeyError\u001b[0m: 'venue'"
     ]
    }
   ],
   "source": [
    "# prepare neighborhood list that contains indian resturants\n",
    "column_names=['Borough', 'Neighborhood', 'ID','Name','Likes','Rating','Tips']\n",
    "indian_rest_stats_ny=pd.DataFrame(columns=column_names)\n",
    "count=1\n",
    "\n",
    "\n",
    "for row in indian_rest_ny.values.tolist():\n",
    "    Borough,Neighborhood,ID,Name=row\n",
    "    try:\n",
    "        venue_details=get_venue_details(ID)\n",
    "        print(venue_details)\n",
    "        id,name,likes,rating,tips=venue_details.values.tolist()[0]\n",
    "    except IndexError:\n",
    "        print('No data available for id=',ID)\n",
    "        # we will assign 0 value for these resturants as they may have been \n",
    "        #recently opened or details does not exist in FourSquare Database\n",
    "        id,name,likes,rating,tips=[0]*5\n",
    "    print('(',count,'/',len(indian_rest_ny),')','processed')\n",
    "    indian_rest_stats_ny = indian_rest_stats_ny.append({'Borough': Borough,\n",
    "                                                'Neighborhood': Neighborhood, \n",
    "                                                'ID': id,\n",
    "                                                'Name' : name,\n",
    "                                                'Likes' : likes,\n",
    "                                                'Rating' : rating,\n",
    "                                                'Tips' : tips\n",
    "                                               }, ignore_index=True)\n",
    "    count+=1"
   ]
  },
  {
   "cell_type": "code",
   "execution_count": 25,
   "metadata": {},
   "outputs": [
    {
     "data": {
      "text/html": [
       "<div>\n",
       "<style scoped>\n",
       "    .dataframe tbody tr th:only-of-type {\n",
       "        vertical-align: middle;\n",
       "    }\n",
       "\n",
       "    .dataframe tbody tr th {\n",
       "        vertical-align: top;\n",
       "    }\n",
       "\n",
       "    .dataframe thead th {\n",
       "        text-align: right;\n",
       "    }\n",
       "</style>\n",
       "<table border=\"1\" class=\"dataframe\">\n",
       "  <thead>\n",
       "    <tr style=\"text-align: right;\">\n",
       "      <th></th>\n",
       "      <th>Borough</th>\n",
       "      <th>Neighborhood</th>\n",
       "      <th>ID</th>\n",
       "      <th>Name</th>\n",
       "      <th>Likes</th>\n",
       "      <th>Rating</th>\n",
       "      <th>Tips</th>\n",
       "    </tr>\n",
       "  </thead>\n",
       "  <tbody>\n",
       "    <tr>\n",
       "      <th>0</th>\n",
       "      <td>Bronx</td>\n",
       "      <td>Woodlawn</td>\n",
       "      <td>4c0448d9310fc9b6bf1dc761</td>\n",
       "      <td>Curry Spot</td>\n",
       "      <td>4</td>\n",
       "      <td>8.1</td>\n",
       "      <td>11</td>\n",
       "    </tr>\n",
       "    <tr>\n",
       "      <th>1</th>\n",
       "      <td>Bronx</td>\n",
       "      <td>Parkchester</td>\n",
       "      <td>4c194631838020a13e78e561</td>\n",
       "      <td>Melanies Roti Bar And Grill</td>\n",
       "      <td>3</td>\n",
       "      <td>6.0</td>\n",
       "      <td>2</td>\n",
       "    </tr>\n",
       "    <tr>\n",
       "      <th>2</th>\n",
       "      <td>Bronx</td>\n",
       "      <td>Spuyten Duyvil</td>\n",
       "      <td>4c04544df423a593ac83d116</td>\n",
       "      <td>Cumin Indian Cuisine</td>\n",
       "      <td>13</td>\n",
       "      <td>6.1</td>\n",
       "      <td>9</td>\n",
       "    </tr>\n",
       "    <tr>\n",
       "      <th>3</th>\n",
       "      <td>Bronx</td>\n",
       "      <td>Concourse</td>\n",
       "      <td>551b7f75498e86c00a0ed2e1</td>\n",
       "      <td>Hungry Bird</td>\n",
       "      <td>8</td>\n",
       "      <td>6.9</td>\n",
       "      <td>3</td>\n",
       "    </tr>\n",
       "    <tr>\n",
       "      <th>4</th>\n",
       "      <td>Bronx</td>\n",
       "      <td>Unionport</td>\n",
       "      <td>4c194631838020a13e78e561</td>\n",
       "      <td>Melanies Roti Bar And Grill</td>\n",
       "      <td>3</td>\n",
       "      <td>6.0</td>\n",
       "      <td>2</td>\n",
       "    </tr>\n",
       "  </tbody>\n",
       "</table>\n",
       "</div>"
      ],
      "text/plain": [
       "  Borough    Neighborhood                        ID  \\\n",
       "0   Bronx        Woodlawn  4c0448d9310fc9b6bf1dc761   \n",
       "1   Bronx     Parkchester  4c194631838020a13e78e561   \n",
       "2   Bronx  Spuyten Duyvil  4c04544df423a593ac83d116   \n",
       "3   Bronx       Concourse  551b7f75498e86c00a0ed2e1   \n",
       "4   Bronx       Unionport  4c194631838020a13e78e561   \n",
       "\n",
       "                          Name Likes  Rating Tips  \n",
       "0                   Curry Spot     4     8.1   11  \n",
       "1  Melanies Roti Bar And Grill     3     6.0    2  \n",
       "2         Cumin Indian Cuisine    13     6.1    9  \n",
       "3                  Hungry Bird     8     6.9    3  \n",
       "4  Melanies Roti Bar And Grill     3     6.0    2  "
      ]
     },
     "execution_count": 25,
     "metadata": {},
     "output_type": "execute_result"
    }
   ],
   "source": [
    "indian_rest_stats_ny.head()"
   ]
  },
  {
   "cell_type": "code",
   "execution_count": 26,
   "metadata": {},
   "outputs": [
    {
     "data": {
      "text/plain": [
       "(50, 7)"
      ]
     },
     "execution_count": 26,
     "metadata": {},
     "output_type": "execute_result"
    }
   ],
   "source": [
    "indian_rest_stats_ny.shape"
   ]
  },
  {
   "cell_type": "code",
   "execution_count": 27,
   "metadata": {},
   "outputs": [
    {
     "data": {
      "text/plain": [
       "(153, 4)"
      ]
     },
     "execution_count": 27,
     "metadata": {},
     "output_type": "execute_result"
    }
   ],
   "source": [
    "\n",
    "indian_rest_ny.shape"
   ]
  },
  {
   "cell_type": "markdown",
   "metadata": {},
   "source": [
    "So we got data for all resturants Now lets save this data to a csv sheet. In case we by mistake modify it. As the number of calls to get details for venue are premium call and have limit of 500 per day, we will refer to saved data sheet csv if required"
   ]
  },
  {
   "cell_type": "code",
   "execution_count": 28,
   "metadata": {},
   "outputs": [],
   "source": [
    "indian_rest_stats_ny.to_csv('indian_rest_stats_ny.csv', index=False)"
   ]
  },
  {
   "cell_type": "markdown",
   "metadata": {},
   "source": [
    "\n",
    "Lets verify the data from saved csv file"
   ]
  },
  {
   "cell_type": "code",
   "execution_count": 29,
   "metadata": {},
   "outputs": [],
   "source": [
    "indian_rest_stats_ny_csv=pd.read_csv('indian_rest_stats_ny.csv')"
   ]
  },
  {
   "cell_type": "code",
   "execution_count": 30,
   "metadata": {},
   "outputs": [
    {
     "data": {
      "text/plain": [
       "(50, 7)"
      ]
     },
     "execution_count": 30,
     "metadata": {},
     "output_type": "execute_result"
    }
   ],
   "source": [
    "\n",
    "indian_rest_stats_ny_csv.shape"
   ]
  },
  {
   "cell_type": "code",
   "execution_count": 31,
   "metadata": {},
   "outputs": [
    {
     "data": {
      "text/html": [
       "<div>\n",
       "<style scoped>\n",
       "    .dataframe tbody tr th:only-of-type {\n",
       "        vertical-align: middle;\n",
       "    }\n",
       "\n",
       "    .dataframe tbody tr th {\n",
       "        vertical-align: top;\n",
       "    }\n",
       "\n",
       "    .dataframe thead th {\n",
       "        text-align: right;\n",
       "    }\n",
       "</style>\n",
       "<table border=\"1\" class=\"dataframe\">\n",
       "  <thead>\n",
       "    <tr style=\"text-align: right;\">\n",
       "      <th></th>\n",
       "      <th>Borough</th>\n",
       "      <th>Neighborhood</th>\n",
       "      <th>ID</th>\n",
       "      <th>Name</th>\n",
       "      <th>Likes</th>\n",
       "      <th>Rating</th>\n",
       "      <th>Tips</th>\n",
       "    </tr>\n",
       "  </thead>\n",
       "  <tbody>\n",
       "    <tr>\n",
       "      <th>0</th>\n",
       "      <td>Bronx</td>\n",
       "      <td>Woodlawn</td>\n",
       "      <td>4c0448d9310fc9b6bf1dc761</td>\n",
       "      <td>Curry Spot</td>\n",
       "      <td>4</td>\n",
       "      <td>8.1</td>\n",
       "      <td>11</td>\n",
       "    </tr>\n",
       "    <tr>\n",
       "      <th>1</th>\n",
       "      <td>Bronx</td>\n",
       "      <td>Parkchester</td>\n",
       "      <td>4c194631838020a13e78e561</td>\n",
       "      <td>Melanies Roti Bar And Grill</td>\n",
       "      <td>3</td>\n",
       "      <td>6.0</td>\n",
       "      <td>2</td>\n",
       "    </tr>\n",
       "    <tr>\n",
       "      <th>2</th>\n",
       "      <td>Bronx</td>\n",
       "      <td>Spuyten Duyvil</td>\n",
       "      <td>4c04544df423a593ac83d116</td>\n",
       "      <td>Cumin Indian Cuisine</td>\n",
       "      <td>13</td>\n",
       "      <td>6.1</td>\n",
       "      <td>9</td>\n",
       "    </tr>\n",
       "    <tr>\n",
       "      <th>3</th>\n",
       "      <td>Bronx</td>\n",
       "      <td>Concourse</td>\n",
       "      <td>551b7f75498e86c00a0ed2e1</td>\n",
       "      <td>Hungry Bird</td>\n",
       "      <td>8</td>\n",
       "      <td>6.9</td>\n",
       "      <td>3</td>\n",
       "    </tr>\n",
       "    <tr>\n",
       "      <th>4</th>\n",
       "      <td>Bronx</td>\n",
       "      <td>Unionport</td>\n",
       "      <td>4c194631838020a13e78e561</td>\n",
       "      <td>Melanies Roti Bar And Grill</td>\n",
       "      <td>3</td>\n",
       "      <td>6.0</td>\n",
       "      <td>2</td>\n",
       "    </tr>\n",
       "  </tbody>\n",
       "</table>\n",
       "</div>"
      ],
      "text/plain": [
       "  Borough    Neighborhood                        ID  \\\n",
       "0   Bronx        Woodlawn  4c0448d9310fc9b6bf1dc761   \n",
       "1   Bronx     Parkchester  4c194631838020a13e78e561   \n",
       "2   Bronx  Spuyten Duyvil  4c04544df423a593ac83d116   \n",
       "3   Bronx       Concourse  551b7f75498e86c00a0ed2e1   \n",
       "4   Bronx       Unionport  4c194631838020a13e78e561   \n",
       "\n",
       "                          Name  Likes  Rating  Tips  \n",
       "0                   Curry Spot      4     8.1    11  \n",
       "1  Melanies Roti Bar And Grill      3     6.0     2  \n",
       "2         Cumin Indian Cuisine     13     6.1     9  \n",
       "3                  Hungry Bird      8     6.9     3  \n",
       "4  Melanies Roti Bar And Grill      3     6.0     2  "
      ]
     },
     "execution_count": 31,
     "metadata": {},
     "output_type": "execute_result"
    }
   ],
   "source": [
    "indian_rest_stats_ny_csv.head()"
   ]
  },
  {
   "cell_type": "code",
   "execution_count": 32,
   "metadata": {},
   "outputs": [
    {
     "name": "stdout",
     "output_type": "stream",
     "text": [
      "<class 'pandas.core.frame.DataFrame'>\n",
      "RangeIndex: 50 entries, 0 to 49\n",
      "Data columns (total 7 columns):\n",
      "Borough         50 non-null object\n",
      "Neighborhood    50 non-null object\n",
      "ID              50 non-null object\n",
      "Name            50 non-null object\n",
      "Likes           50 non-null object\n",
      "Rating          50 non-null float64\n",
      "Tips            50 non-null object\n",
      "dtypes: float64(1), object(6)\n",
      "memory usage: 2.8+ KB\n"
     ]
    }
   ],
   "source": [
    "indian_rest_stats_ny.info()"
   ]
  },
  {
   "cell_type": "markdown",
   "metadata": {},
   "source": [
    "\n",
    "We see that values like Likes, Tips are strig values. We would need to convert them into float for further analysis"
   ]
  },
  {
   "cell_type": "code",
   "execution_count": 33,
   "metadata": {},
   "outputs": [],
   "source": [
    "indian_rest_stats_ny['Likes']=indian_rest_stats_ny['Likes'].astype('float64')"
   ]
  },
  {
   "cell_type": "code",
   "execution_count": 34,
   "metadata": {},
   "outputs": [],
   "source": [
    "\n",
    "indian_rest_stats_ny['Tips']=indian_rest_stats_ny['Tips'].astype('float64')"
   ]
  },
  {
   "cell_type": "code",
   "execution_count": 35,
   "metadata": {},
   "outputs": [
    {
     "name": "stdout",
     "output_type": "stream",
     "text": [
      "<class 'pandas.core.frame.DataFrame'>\n",
      "RangeIndex: 50 entries, 0 to 49\n",
      "Data columns (total 7 columns):\n",
      "Borough         50 non-null object\n",
      "Neighborhood    50 non-null object\n",
      "ID              50 non-null object\n",
      "Name            50 non-null object\n",
      "Likes           50 non-null float64\n",
      "Rating          50 non-null float64\n",
      "Tips            50 non-null float64\n",
      "dtypes: float64(3), object(4)\n",
      "memory usage: 2.8+ KB\n"
     ]
    }
   ],
   "source": [
    "\n",
    "indian_rest_stats_ny.info()"
   ]
  },
  {
   "cell_type": "markdown",
   "metadata": {},
   "source": [
    "Now the data types looks correct"
   ]
  },
  {
   "cell_type": "code",
   "execution_count": 36,
   "metadata": {},
   "outputs": [
    {
     "data": {
      "text/plain": [
       "Borough                        Manhattan\n",
       "Neighborhood                     Midtown\n",
       "ID              49d91c12f964a520015e1fe3\n",
       "Name               The Kati Roll Company\n",
       "Likes                                836\n",
       "Rating                               8.8\n",
       "Tips                                 259\n",
       "Name: 41, dtype: object"
      ]
     },
     "execution_count": 36,
     "metadata": {},
     "output_type": "execute_result"
    }
   ],
   "source": [
    "\n",
    "# Resturant with maximum Likes\n",
    "indian_rest_stats_ny.iloc[indian_rest_stats_ny['Likes'].idxmax()]"
   ]
  },
  {
   "cell_type": "code",
   "execution_count": 37,
   "metadata": {},
   "outputs": [
    {
     "data": {
      "text/plain": [
       "Borough                        Manhattan\n",
       "Neighborhood                     Tribeca\n",
       "ID              4bbb9dbded7776b0e1ad3e51\n",
       "Name                    Tamarind TriBeCa\n",
       "Likes                                586\n",
       "Rating                                 9\n",
       "Tips                                 145\n",
       "Name: 45, dtype: object"
      ]
     },
     "execution_count": 37,
     "metadata": {},
     "output_type": "execute_result"
    }
   ],
   "source": [
    "# Resturant with maximum Rating\n",
    "indian_rest_stats_ny.iloc[indian_rest_stats_ny['Rating'].idxmax()]"
   ]
  },
  {
   "cell_type": "code",
   "execution_count": 38,
   "metadata": {},
   "outputs": [
    {
     "data": {
      "text/plain": [
       "Borough                        Manhattan\n",
       "Neighborhood                     Midtown\n",
       "ID              49d91c12f964a520015e1fe3\n",
       "Name               The Kati Roll Company\n",
       "Likes                                836\n",
       "Rating                               8.8\n",
       "Tips                                 259\n",
       "Name: 41, dtype: object"
      ]
     },
     "execution_count": 38,
     "metadata": {},
     "output_type": "execute_result"
    }
   ],
   "source": [
    "# Resturant with maximum Tips\n",
    "indian_rest_stats_ny.iloc[indian_rest_stats_ny['Tips'].idxmax()]"
   ]
  },
  {
   "cell_type": "code",
   "execution_count": 39,
   "metadata": {},
   "outputs": [],
   "source": [
    "ny_neighborhood_stats=indian_rest_stats_ny.groupby('Neighborhood',as_index=False).mean()[['Neighborhood','Rating']]\n",
    "ny_neighborhood_stats.columns=['Neighborhood','Average Rating']"
   ]
  },
  {
   "cell_type": "code",
   "execution_count": 40,
   "metadata": {},
   "outputs": [
    {
     "data": {
      "text/html": [
       "<div>\n",
       "<style scoped>\n",
       "    .dataframe tbody tr th:only-of-type {\n",
       "        vertical-align: middle;\n",
       "    }\n",
       "\n",
       "    .dataframe tbody tr th {\n",
       "        vertical-align: top;\n",
       "    }\n",
       "\n",
       "    .dataframe thead th {\n",
       "        text-align: right;\n",
       "    }\n",
       "</style>\n",
       "<table border=\"1\" class=\"dataframe\">\n",
       "  <thead>\n",
       "    <tr style=\"text-align: right;\">\n",
       "      <th></th>\n",
       "      <th>Neighborhood</th>\n",
       "      <th>Average Rating</th>\n",
       "    </tr>\n",
       "  </thead>\n",
       "  <tbody>\n",
       "    <tr>\n",
       "      <th>28</th>\n",
       "      <td>Tribeca</td>\n",
       "      <td>9.00</td>\n",
       "    </tr>\n",
       "    <tr>\n",
       "      <th>13</th>\n",
       "      <td>Greenwich Village</td>\n",
       "      <td>8.90</td>\n",
       "    </tr>\n",
       "    <tr>\n",
       "      <th>32</th>\n",
       "      <td>West Village</td>\n",
       "      <td>8.85</td>\n",
       "    </tr>\n",
       "    <tr>\n",
       "      <th>18</th>\n",
       "      <td>Midtown</td>\n",
       "      <td>8.80</td>\n",
       "    </tr>\n",
       "    <tr>\n",
       "      <th>3</th>\n",
       "      <td>Chelsea</td>\n",
       "      <td>8.80</td>\n",
       "    </tr>\n",
       "    <tr>\n",
       "      <th>19</th>\n",
       "      <td>Murray Hill</td>\n",
       "      <td>8.70</td>\n",
       "    </tr>\n",
       "    <tr>\n",
       "      <th>10</th>\n",
       "      <td>Fort Greene</td>\n",
       "      <td>8.60</td>\n",
       "    </tr>\n",
       "    <tr>\n",
       "      <th>20</th>\n",
       "      <td>North Side</td>\n",
       "      <td>8.60</td>\n",
       "    </tr>\n",
       "    <tr>\n",
       "      <th>26</th>\n",
       "      <td>South Side</td>\n",
       "      <td>8.60</td>\n",
       "    </tr>\n",
       "    <tr>\n",
       "      <th>25</th>\n",
       "      <td>Roosevelt Island</td>\n",
       "      <td>8.40</td>\n",
       "    </tr>\n",
       "  </tbody>\n",
       "</table>\n",
       "</div>"
      ],
      "text/plain": [
       "         Neighborhood  Average Rating\n",
       "28            Tribeca            9.00\n",
       "13  Greenwich Village            8.90\n",
       "32       West Village            8.85\n",
       "18            Midtown            8.80\n",
       "3             Chelsea            8.80\n",
       "19        Murray Hill            8.70\n",
       "10        Fort Greene            8.60\n",
       "20         North Side            8.60\n",
       "26         South Side            8.60\n",
       "25   Roosevelt Island            8.40"
      ]
     },
     "execution_count": 40,
     "metadata": {},
     "output_type": "execute_result"
    }
   ],
   "source": [
    "ny_neighborhood_stats.sort_values(['Average Rating'],ascending=False).head(10)"
   ]
  },
  {
   "cell_type": "markdown",
   "metadata": {},
   "source": [
    "\n",
    "Above are the top neighborhoods with top average rating of Indian resturant"
   ]
  },
  {
   "cell_type": "code",
   "execution_count": 41,
   "metadata": {},
   "outputs": [],
   "source": [
    "ny_borough_stats=indian_rest_stats_ny.groupby('Borough',as_index=False).mean()[['Borough','Rating']]\n",
    "ny_borough_stats.columns=['Borough','Average Rating']"
   ]
  },
  {
   "cell_type": "code",
   "execution_count": 42,
   "metadata": {},
   "outputs": [
    {
     "data": {
      "text/html": [
       "<div>\n",
       "<style scoped>\n",
       "    .dataframe tbody tr th:only-of-type {\n",
       "        vertical-align: middle;\n",
       "    }\n",
       "\n",
       "    .dataframe tbody tr th {\n",
       "        vertical-align: top;\n",
       "    }\n",
       "\n",
       "    .dataframe thead th {\n",
       "        text-align: right;\n",
       "    }\n",
       "</style>\n",
       "<table border=\"1\" class=\"dataframe\">\n",
       "  <thead>\n",
       "    <tr style=\"text-align: right;\">\n",
       "      <th></th>\n",
       "      <th>Borough</th>\n",
       "      <th>Average Rating</th>\n",
       "    </tr>\n",
       "  </thead>\n",
       "  <tbody>\n",
       "    <tr>\n",
       "      <th>2</th>\n",
       "      <td>Manhattan</td>\n",
       "      <td>8.227273</td>\n",
       "    </tr>\n",
       "    <tr>\n",
       "      <th>1</th>\n",
       "      <td>Brooklyn</td>\n",
       "      <td>7.408696</td>\n",
       "    </tr>\n",
       "    <tr>\n",
       "      <th>0</th>\n",
       "      <td>Bronx</td>\n",
       "      <td>6.620000</td>\n",
       "    </tr>\n",
       "  </tbody>\n",
       "</table>\n",
       "</div>"
      ],
      "text/plain": [
       "     Borough  Average Rating\n",
       "2  Manhattan        8.227273\n",
       "1   Brooklyn        7.408696\n",
       "0      Bronx        6.620000"
      ]
     },
     "execution_count": 42,
     "metadata": {},
     "output_type": "execute_result"
    }
   ],
   "source": [
    "ny_borough_stats.sort_values(['Average Rating'],ascending=False).head()"
   ]
  },
  {
   "cell_type": "markdown",
   "metadata": {},
   "source": [
    "\n",
    "Similarly these are the average rating of Indian Resturants for each Borough\n",
    "\n",
    "Lets visualize it"
   ]
  },
  {
   "cell_type": "code",
   "execution_count": 43,
   "metadata": {},
   "outputs": [
    {
     "data": {
      "image/png": "[encoded data removed]",
      "text/plain": [
       "<Figure size 900x500 with 1 Axes>"
      ]
     },
     "metadata": {
      "needs_background": "light"
     },
     "output_type": "display_data"
    }
   ],
   "source": [
    "plt.figure(figsize=(9,5), dpi = 100)\n",
    "# title\n",
    "plt.title('Average rating of Indian Resturants for each Borough')\n",
    "#On x-axis\n",
    "plt.xlabel('Borough', fontsize = 15)\n",
    "#On y-axis\n",
    "plt.ylabel('Average Rating', fontsize=15)\n",
    "#giving a bar plot\n",
    "indian_rest_stats_ny.groupby('Borough').mean()['Rating'].plot(kind='bar')\n",
    "#legend\n",
    "plt.legend()\n",
    "#displays the plot\n",
    "plt.show()"
   ]
  },
  {
   "cell_type": "markdown",
   "metadata": {},
   "source": [
    "We will consider all the neighborhoods with average rating greater or equal 9.0 to visualize on map"
   ]
  },
  {
   "cell_type": "code",
   "execution_count": 44,
   "metadata": {},
   "outputs": [],
   "source": [
    "ny_neighborhood_stats=ny_neighborhood_stats[ny_neighborhood_stats['Average Rating']>=9.0]"
   ]
  },
  {
   "cell_type": "code",
   "execution_count": 45,
   "metadata": {},
   "outputs": [
    {
     "data": {
      "text/html": [
       "<div>\n",
       "<style scoped>\n",
       "    .dataframe tbody tr th:only-of-type {\n",
       "        vertical-align: middle;\n",
       "    }\n",
       "\n",
       "    .dataframe tbody tr th {\n",
       "        vertical-align: top;\n",
       "    }\n",
       "\n",
       "    .dataframe thead th {\n",
       "        text-align: right;\n",
       "    }\n",
       "</style>\n",
       "<table border=\"1\" class=\"dataframe\">\n",
       "  <thead>\n",
       "    <tr style=\"text-align: right;\">\n",
       "      <th></th>\n",
       "      <th>Neighborhood</th>\n",
       "      <th>Average Rating</th>\n",
       "    </tr>\n",
       "  </thead>\n",
       "  <tbody>\n",
       "    <tr>\n",
       "      <th>28</th>\n",
       "      <td>Tribeca</td>\n",
       "      <td>9.0</td>\n",
       "    </tr>\n",
       "  </tbody>\n",
       "</table>\n",
       "</div>"
      ],
      "text/plain": [
       "   Neighborhood  Average Rating\n",
       "28      Tribeca             9.0"
      ]
     },
     "execution_count": 45,
     "metadata": {},
     "output_type": "execute_result"
    }
   ],
   "source": [
    "\n",
    "ny_neighborhood_stats"
   ]
  },
  {
   "cell_type": "markdown",
   "metadata": {},
   "source": [
    "    \n",
    "We will join this dataset to original new york data to get lonitude and latitude"
   ]
  },
  {
   "cell_type": "code",
   "execution_count": 46,
   "metadata": {},
   "outputs": [],
   "source": [
    "ny_neighborhood_stats=pd.merge(ny_neighborhood_stats,new_york_data, on='Neighborhood')"
   ]
  },
  {
   "cell_type": "code",
   "execution_count": 47,
   "metadata": {},
   "outputs": [],
   "source": [
    "ny_neighborhood_stats=ny_neighborhood_stats[['Borough','Neighborhood','Latitude','Longitude','Average Rating']]"
   ]
  },
  {
   "cell_type": "code",
   "execution_count": 48,
   "metadata": {},
   "outputs": [
    {
     "data": {
      "text/html": [
       "<div>\n",
       "<style scoped>\n",
       "    .dataframe tbody tr th:only-of-type {\n",
       "        vertical-align: middle;\n",
       "    }\n",
       "\n",
       "    .dataframe tbody tr th {\n",
       "        vertical-align: top;\n",
       "    }\n",
       "\n",
       "    .dataframe thead th {\n",
       "        text-align: right;\n",
       "    }\n",
       "</style>\n",
       "<table border=\"1\" class=\"dataframe\">\n",
       "  <thead>\n",
       "    <tr style=\"text-align: right;\">\n",
       "      <th></th>\n",
       "      <th>Borough</th>\n",
       "      <th>Neighborhood</th>\n",
       "      <th>Latitude</th>\n",
       "      <th>Longitude</th>\n",
       "      <th>Average Rating</th>\n",
       "    </tr>\n",
       "  </thead>\n",
       "  <tbody>\n",
       "    <tr>\n",
       "      <th>0</th>\n",
       "      <td>Manhattan</td>\n",
       "      <td>Tribeca</td>\n",
       "      <td>40.721522</td>\n",
       "      <td>-74.010683</td>\n",
       "      <td>9.0</td>\n",
       "    </tr>\n",
       "  </tbody>\n",
       "</table>\n",
       "</div>"
      ],
      "text/plain": [
       "     Borough Neighborhood   Latitude  Longitude  Average Rating\n",
       "0  Manhattan      Tribeca  40.721522 -74.010683             9.0"
      ]
     },
     "execution_count": 48,
     "metadata": {},
     "output_type": "execute_result"
    }
   ],
   "source": [
    "ny_neighborhood_stats"
   ]
  },
  {
   "cell_type": "markdown",
   "metadata": {},
   "source": [
    "Now we will show this data on a map"
   ]
  },
  {
   "cell_type": "code",
   "execution_count": 49,
   "metadata": {},
   "outputs": [],
   "source": [
    "# create map and display it\n",
    "ny_map = folium.Map(location=geo_location('New York'), zoom_start=12)"
   ]
  },
  {
   "cell_type": "code",
   "execution_count": 50,
   "metadata": {},
   "outputs": [],
   "source": [
    "# instantiate a feature group for the incidents in the dataframe\n",
    "incidents = folium.map.FeatureGroup()\n",
    "\n",
    "# loop through the 100 crimes and add each to the incidents feature group\n",
    "for lat, lng, in ny_neighborhood_stats[['Latitude','Longitude']].values:\n",
    "    incidents.add_child(\n",
    "        folium.CircleMarker(\n",
    "            [lat, lng],\n",
    "            radius=10, # define how big you want the circle markers to be\n",
    "            color='yellow',\n",
    "            fill=True,\n",
    "            fill_color='blue',\n",
    "            fill_opacity=0.6\n",
    "        )\n",
    "    )"
   ]
  },
  {
   "cell_type": "markdown",
   "metadata": {},
   "source": [
    "Lets add a new field to dataframe for labeling purpose"
   ]
  },
  {
   "cell_type": "code",
   "execution_count": 51,
   "metadata": {},
   "outputs": [],
   "source": [
    "ny_neighborhood_stats['Label']=ny_neighborhood_stats['Neighborhood']+', '+ny_neighborhood_stats['Borough']+'('+ny_neighborhood_stats['Average Rating'].map(str)+')'"
   ]
  },
  {
   "cell_type": "code",
   "execution_count": 54,
   "metadata": {},
   "outputs": [
    {
     "data": {
      "text/html": [
       "<div style=\"width:100%;\"><div style=\"position:relative;width:100%;height:0;padding-bottom:60%;\"><iframe src=\"data:text/html;charset=utf-8;base64,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\" style=\"position:absolute;width:100%;height:100%;left:0;top:0;border:none !important;\" allowfullscreen webkitallowfullscreen mozallowfullscreen></iframe></div></div>"
      ],
      "text/plain": [
       "<folium.folium.Map at 0x7f158d035320>"
      ]
     },
     "execution_count": 54,
     "metadata": {},
     "output_type": "execute_result"
    }
   ],
   "source": [
    "\n",
    "# add pop-up text to each marker on the map\n",
    "for lat, lng, label in ny_neighborhood_stats[['Latitude','Longitude','Label']].values:\n",
    "    folium.Marker([lat, lng], popup=label).add_to(ny_map)        \n",
    "# add incidents to map\n",
    "ny_map.add_child(incidents)"
   ]
  },
  {
   "cell_type": "markdown",
   "metadata": {},
   "source": [
    "\n",
    "Now that we have visualized the Neighborhoods.\n",
    "Lets Visualize Boroughs based on average Rating"
   ]
  },
  {
   "cell_type": "code",
   "execution_count": 66,
   "metadata": {},
   "outputs": [],
   "source": [
    "ny_map = folium.Map(location=geo_location('New York'), zoom_start=12)\n",
    "ny_geo = r'Borough Boundaries.geojson'\n",
    "\n",
    "ny_map.choropleth(\n",
    "    geo_data=ny_geo,\n",
    "    data=ny_borough_stats,\n",
    "    columns=['Borough', 'Average Rating'],\n",
    "    key_on='feature.properties.boro_name',\n",
    "    fill_color='YlOrRd', \n",
    "    fill_opacity=0.7, \n",
    "    line_opacity=0.2,\n",
    "    legend_name='Average Rating'\n",
    ")\n",
    "\n",
    "# display map\n",
    "# as this is huge map data , we will save it to a file\n",
    "ny_map.save('borough_rating.html')"
   ]
  },
  {
   "cell_type": "markdown",
   "metadata": {},
   "source": [
    "\n",
    "### Conclusion\n",
    " - Astoria(Queens), Blissville(Queens), Civic Center(Manhattan) are some of the best neighborhoods for indian cuisine.\n",
    " - Manhattan have potential Indian Resturant Market\n",
    " - Staten Island ranks last in average rating of Indian Resturants.\n",
    " - Manhattan is the best place to stay if you prefer Indian Cuisine.\n",
    " - Limitations\n",
    " - The ranking is purely on basis of rating of resturants\n",
    " - The accuracy of data depends purely depends on the data provided by FourSquare\n",
    " \n",
    " ### Limitations\n",
    " - The ranking is purely on basis of rating of resturants\n",
    " - The accuracy of data depends purely depends on the data provided by FourSquare"
   ]
  }
 ],
 "metadata": {
  "kernelspec": {
   "display_name": "Python 3.7",
   "language": "python",
   "name": "python3"
  },
  "language_info": {
   "codemirror_mode": {
    "name": "ipython",
    "version": 3
   },
   "file_extension": ".py",
   "mimetype": "text/x-python",
   "name": "python",
   "nbconvert_exporter": "python",
   "pygments_lexer": "ipython3",
   "version": "3.7.9"
  }
 },
 "nbformat": 4,
 "nbformat_minor": 2
}
